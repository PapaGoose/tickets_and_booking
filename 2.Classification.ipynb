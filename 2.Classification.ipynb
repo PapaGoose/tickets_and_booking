{
 "cells": [
  {
   "cell_type": "code",
   "execution_count": 1,
   "id": "5f5aa513-e543-459f-a268-7f535190e7eb",
   "metadata": {},
   "outputs": [
    {
     "data": {
      "text/html": [
       "<div>\n",
       "<style scoped>\n",
       "    .dataframe tbody tr th:only-of-type {\n",
       "        vertical-align: middle;\n",
       "    }\n",
       "\n",
       "    .dataframe tbody tr th {\n",
       "        vertical-align: top;\n",
       "    }\n",
       "\n",
       "    .dataframe thead th {\n",
       "        text-align: right;\n",
       "    }\n",
       "</style>\n",
       "<table border=\"1\" class=\"dataframe\">\n",
       "  <thead>\n",
       "    <tr style=\"text-align: right;\">\n",
       "      <th></th>\n",
       "      <th>json</th>\n",
       "      <th>text</th>\n",
       "      <th>label</th>\n",
       "    </tr>\n",
       "  </thead>\n",
       "  <tbody>\n",
       "    <tr>\n",
       "      <th>0</th>\n",
       "      <td>{'departure_city': 'Олбани', 'arrival_city': '...</td>\n",
       "      <td>Я хочу купить билет в Олбани в Днестровск 18-...</td>\n",
       "      <td>самолет</td>\n",
       "    </tr>\n",
       "    <tr>\n",
       "      <th>1</th>\n",
       "      <td>{'departure_city': 'Порт-Честер', 'arrival_cit...</td>\n",
       "      <td>Я хочу купить билет на рейс из Порт-Честер в ...</td>\n",
       "      <td>самолет</td>\n",
       "    </tr>\n",
       "    <tr>\n",
       "      <th>2</th>\n",
       "      <td>{'departure_city': 'Пейдж-Манор', 'arrival_cit...</td>\n",
       "      <td>Я хочу купить билет из Пейдж-Манора в Ленингр...</td>\n",
       "      <td>самолет</td>\n",
       "    </tr>\n",
       "    <tr>\n",
       "      <th>3</th>\n",
       "      <td>{'departure_city': 'Шлиссельбург', 'arrival_ci...</td>\n",
       "      <td>Я живу в Шлиссельбурге и хочу купить билет в ...</td>\n",
       "      <td>самолет</td>\n",
       "    </tr>\n",
       "    <tr>\n",
       "      <th>4</th>\n",
       "      <td>{'departure_city': 'Згерз', 'arrival_city': 'К...</td>\n",
       "      <td>Я хочу купить билет в Згерз - Коммак, с 25-04...</td>\n",
       "      <td>самолет</td>\n",
       "    </tr>\n",
       "    <tr>\n",
       "      <th>...</th>\n",
       "      <td>...</td>\n",
       "      <td>...</td>\n",
       "      <td>...</td>\n",
       "    </tr>\n",
       "    <tr>\n",
       "      <th>1995</th>\n",
       "      <td>{'city': '', 'hotel': 'Villa Amelia', 'date': ...</td>\n",
       "      <td>Я хотел бы забронировать номер в отеле Villa ...</td>\n",
       "      <td>отель</td>\n",
       "    </tr>\n",
       "    <tr>\n",
       "      <th>1996</th>\n",
       "      <td>{'city': 'Северное', 'hotel': 'Rosenalp Gesund...</td>\n",
       "      <td>\"Здравствуйте, мне нужно забронировать номер ...</td>\n",
       "      <td>отель</td>\n",
       "    </tr>\n",
       "    <tr>\n",
       "      <th>1997</th>\n",
       "      <td>{'city': 'Хиполуксо', 'hotel': 'Baccaiano Apar...</td>\n",
       "      <td>\\nЗдравствуйте, я хотел бы забронировать номер...</td>\n",
       "      <td>отель</td>\n",
       "    </tr>\n",
       "    <tr>\n",
       "      <th>1998</th>\n",
       "      <td>{'city': '', 'hotel': 'The Sun Inn', 'date': '...</td>\n",
       "      <td>\"Здравствуйте, я хотел бы забронировать номер...</td>\n",
       "      <td>отель</td>\n",
       "    </tr>\n",
       "    <tr>\n",
       "      <th>1999</th>\n",
       "      <td>{'city': 'Брно', 'hotel': 'Wohnung 11 Im Palai...</td>\n",
       "      <td>*Здравствуйте, я хотел бы забронировать номер...</td>\n",
       "      <td>отель</td>\n",
       "    </tr>\n",
       "  </tbody>\n",
       "</table>\n",
       "<p>2000 rows × 3 columns</p>\n",
       "</div>"
      ],
      "text/plain": [
       "                                                   json  \\\n",
       "0     {'departure_city': 'Олбани', 'arrival_city': '...   \n",
       "1     {'departure_city': 'Порт-Честер', 'arrival_cit...   \n",
       "2     {'departure_city': 'Пейдж-Манор', 'arrival_cit...   \n",
       "3     {'departure_city': 'Шлиссельбург', 'arrival_ci...   \n",
       "4     {'departure_city': 'Згерз', 'arrival_city': 'К...   \n",
       "...                                                 ...   \n",
       "1995  {'city': '', 'hotel': 'Villa Amelia', 'date': ...   \n",
       "1996  {'city': 'Северное', 'hotel': 'Rosenalp Gesund...   \n",
       "1997  {'city': 'Хиполуксо', 'hotel': 'Baccaiano Apar...   \n",
       "1998  {'city': '', 'hotel': 'The Sun Inn', 'date': '...   \n",
       "1999  {'city': 'Брно', 'hotel': 'Wohnung 11 Im Palai...   \n",
       "\n",
       "                                                   text    label  \n",
       "0      Я хочу купить билет в Олбани в Днестровск 18-...  самолет  \n",
       "1      Я хочу купить билет на рейс из Порт-Честер в ...  самолет  \n",
       "2      Я хочу купить билет из Пейдж-Манора в Ленингр...  самолет  \n",
       "3      Я живу в Шлиссельбурге и хочу купить билет в ...  самолет  \n",
       "4      Я хочу купить билет в Згерз - Коммак, с 25-04...  самолет  \n",
       "...                                                 ...      ...  \n",
       "1995   Я хотел бы забронировать номер в отеле Villa ...    отель  \n",
       "1996   \"Здравствуйте, мне нужно забронировать номер ...    отель  \n",
       "1997  \\nЗдравствуйте, я хотел бы забронировать номер...    отель  \n",
       "1998   \"Здравствуйте, я хотел бы забронировать номер...    отель  \n",
       "1999   *Здравствуйте, я хотел бы забронировать номер...    отель  \n",
       "\n",
       "[2000 rows x 3 columns]"
      ]
     },
     "execution_count": 1,
     "metadata": {},
     "output_type": "execute_result"
    }
   ],
   "source": [
    "import pandas as pd\n",
    "\n",
    "df = pd.read_csv('Data/generated_data.csv')"
   ]
  },
  {
   "cell_type": "markdown",
   "id": "cfa05750-c528-4fa0-bae6-74fa4fa92fdf",
   "metadata": {},
   "source": [
    "# Тестирование in-context learning для Mistral-7B-Instruct-v0.2"
   ]
  },
  {
   "cell_type": "code",
   "execution_count": 2,
   "id": "59f5621a-0d96-4050-9f6d-af9acdc9cb93",
   "metadata": {},
   "outputs": [
    {
     "name": "stdout",
     "output_type": "stream",
     "text": [
      "INFO 04-04 16:56:17 llm_engine.py:70] Initializing an LLM engine with config: model='mistralai/Mistral-7B-Instruct-v0.2', tokenizer='mistralai/Mistral-7B-Instruct-v0.2', tokenizer_mode=auto, revision=None, tokenizer_revision=None, trust_remote_code=False, dtype=torch.bfloat16, max_seq_len=32768, download_dir=None, load_format=auto, tensor_parallel_size=1, quantization=None, enforce_eager=False, seed=0)\n",
      "INFO 04-04 16:56:28 llm_engine.py:275] # GPU blocks: 12691, # CPU blocks: 2048\n",
      "INFO 04-04 16:56:28 model_runner.py:501] Capturing the model for CUDA graphs. This may lead to unexpected consequences if the model is not static. To run the model in eager mode, set 'enforce_eager=True' or use '--enforce-eager' in the CLI.\n",
      "INFO 04-04 16:56:28 model_runner.py:505] CUDA graphs can take additional 1~3 GiB memory per GPU. If you are running out of memory, consider decreasing `gpu_memory_utilization` or enforcing eager mode.\n",
      "INFO 04-04 16:56:31 model_runner.py:547] Graph capturing finished in 3 secs.\n"
     ]
    }
   ],
   "source": [
    "from vllm import LLM, SamplingParams\n",
    "from tqdm import tqdm\n",
    "\n",
    "llm = LLM(model=\"mistralai/Mistral-7B-Instruct-v0.2\")"
   ]
  },
  {
   "cell_type": "markdown",
   "id": "d4d78067-b737-410a-9638-cc0cf855d665",
   "metadata": {},
   "source": [
    "## Zero-shot learning"
   ]
  },
  {
   "cell_type": "code",
   "execution_count": 8,
   "id": "ff651595-fa3b-43c2-b724-8a5610196ce5",
   "metadata": {},
   "outputs": [
    {
     "name": "stderr",
     "output_type": "stream",
     "text": [
      "100%|██████████| 2000/2000 [02:03<00:00, 16.26it/s]\n"
     ]
    }
   ],
   "source": [
    "prediction = []\n",
    "sampling_params = SamplingParams(temperature=0, max_tokens=30, stop=['отель', 'самолет'], include_stop_str_in_output=True)\n",
    "for i in tqdm(range(2000)):\n",
    "    sample = df.iloc[i]\n",
    "    prompt = f\"\"\"Ты должен отнести текст к одному из двух классов: самолет и отель.\n",
    "    \n",
    "    Используй следующий шаблон:\n",
    "    \n",
    "    Текст: сообщение пользователя в чате\n",
    "    Класс: одно из двух значений: самолет или отель\n",
    "    \n",
    "    Начинай!\n",
    "    \n",
    "    Текст: {sample.text}\n",
    "    Класс: \"\"\"\n",
    "    \n",
    "    output = llm.generate(prompt, sampling_params, use_tqdm=False)[0]\n",
    "        \n",
    "    # Print the outputs.\n",
    "    prompt = output.prompt\n",
    "    generated_text = output.outputs[0].text.replace(' ','').replace('\\n','')\n",
    "    prediction.append(generated_text)"
   ]
  },
  {
   "cell_type": "code",
   "execution_count": 10,
   "id": "5ade4bf1-3eb2-4336-b3f2-8fcc5b749e08",
   "metadata": {},
   "outputs": [
    {
     "name": "stdout",
     "output_type": "stream",
     "text": [
      "Accuracy booking = 1.000\n",
      "Accuracy tickets = 0.996\n"
     ]
    }
   ],
   "source": [
    "df['prediction'] = prediction\n",
    "booking_errors = df[(df['prediction']!=df['label'])&(df['label']=='отель')].shape[0]\n",
    "ticket_errors = df[(df['prediction']!=df['label'])&(df['label']=='самолет')].shape[0]\n",
    "print(f'Accuracy booking = {1-booking_errors/1000:.3f}\\nAccuracy tickets = {1-ticket_errors/1000:.3f}')"
   ]
  },
  {
   "cell_type": "markdown",
   "id": "da6dcd0e-c14f-423c-86d9-edd09e6dac34",
   "metadata": {},
   "source": [
    "## One-shot learning"
   ]
  },
  {
   "cell_type": "code",
   "execution_count": 12,
   "id": "7d5dfdd9-c73b-41c7-9310-07de392541d4",
   "metadata": {},
   "outputs": [
    {
     "name": "stderr",
     "output_type": "stream",
     "text": [
      "100%|██████████| 2000/2000 [02:58<00:00, 11.23it/s]\n"
     ]
    }
   ],
   "source": [
    "prediction_one_shot = []\n",
    "sampling_params = SamplingParams(temperature=0, max_tokens=30, stop=['отель', 'самолет'], include_stop_str_in_output=True)\n",
    "for i in tqdm(range(2000)):\n",
    "    sample = df.iloc[i]\n",
    "    prompt = f\"\"\"Ты должен отнести текст к одному из двух классов: самолет и отель.\n",
    "\n",
    "    Пример для класса самолет: {df.iloc[0].text}\n",
    "    Пример для класса отель: {df.iloc[1000].text}\n",
    "    \n",
    "    Используй следующий шаблон:\n",
    "    \n",
    "    Текст: сообщение пользователя в чате\n",
    "    Класс: одно из двух значений: самолет или отель\n",
    "    \n",
    "    Начинай!\n",
    "    \n",
    "    Текст: {sample.text}\n",
    "    Класс: \"\"\"\n",
    "    \n",
    "    output = llm.generate(prompt, sampling_params, use_tqdm=False)[0]\n",
    "        \n",
    "    # Print the outputs.\n",
    "    prompt = output.prompt\n",
    "    generated_text = output.outputs[0].text.replace(' ','').replace('\\n','')\n",
    "    prediction.append(generated_text)\n",
    "    prediction_one_shot.append(generated_text)"
   ]
  },
  {
   "cell_type": "code",
   "execution_count": 13,
   "id": "08a6c17e-401e-4005-9e1f-1a39d6ce0f78",
   "metadata": {},
   "outputs": [
    {
     "name": "stdout",
     "output_type": "stream",
     "text": [
      "Accuracy booking = 1.000\n",
      "Accuracy tickets = 0.999\n"
     ]
    }
   ],
   "source": [
    "df['prediction_one_shot'] = prediction_one_shot\n",
    "booking_errors = df[(df['prediction_one_shot']!=df['label'])&(df['label']=='отель')].shape[0]\n",
    "ticket_errors = df[(df['prediction_one_shot']!=df['label'])&(df['label']=='самолет')].shape[0]\n",
    "print(f'Accuracy booking = {1-booking_errors/1000:.3f}\\nAccuracy tickets = {1-ticket_errors/1000:.3f}')"
   ]
  },
  {
   "cell_type": "markdown",
   "id": "69da5ee0-350d-4d3a-80ef-ad7b0423d131",
   "metadata": {},
   "source": [
    "# Тестирование in-context learning для Mistral-7B v0.1\n",
    "(перезапустите ядро)"
   ]
  },
  {
   "cell_type": "code",
   "execution_count": 1,
   "id": "069a3f92-242b-4918-ac9f-d31910ce4c09",
   "metadata": {},
   "outputs": [],
   "source": [
    "import pandas as pd\n",
    "\n",
    "df = pd.read_csv('Data/generated_data.csv')"
   ]
  },
  {
   "cell_type": "code",
   "execution_count": 2,
   "id": "d80700ad-b26e-4c45-afd9-293c6e26793f",
   "metadata": {},
   "outputs": [
    {
     "name": "stdout",
     "output_type": "stream",
     "text": [
      "INFO 04-04 17:06:52 llm_engine.py:70] Initializing an LLM engine with config: model='mistralai/Mistral-7B-v0.1', tokenizer='mistralai/Mistral-7B-v0.1', tokenizer_mode=auto, revision=None, tokenizer_revision=None, trust_remote_code=False, dtype=torch.bfloat16, max_seq_len=32768, download_dir=None, load_format=auto, tensor_parallel_size=1, quantization=None, enforce_eager=False, seed=0)\n",
      "INFO 04-04 17:07:04 llm_engine.py:275] # GPU blocks: 8636, # CPU blocks: 2048\n",
      "INFO 04-04 17:07:04 model_runner.py:501] Capturing the model for CUDA graphs. This may lead to unexpected consequences if the model is not static. To run the model in eager mode, set 'enforce_eager=True' or use '--enforce-eager' in the CLI.\n",
      "INFO 04-04 17:07:04 model_runner.py:505] CUDA graphs can take additional 1~3 GiB memory per GPU. If you are running out of memory, consider decreasing `gpu_memory_utilization` or enforcing eager mode.\n",
      "INFO 04-04 17:07:07 model_runner.py:547] Graph capturing finished in 3 secs.\n"
     ]
    }
   ],
   "source": [
    "from vllm import LLM, SamplingParams\n",
    "from tqdm import tqdm\n",
    "\n",
    "llm = LLM(model=\"mistralai/Mistral-7B-v0.1\")"
   ]
  },
  {
   "cell_type": "markdown",
   "id": "bf018d5b-9d98-4c19-b0c3-53bed67dd3b4",
   "metadata": {},
   "source": [
    "## Zero-shot learning"
   ]
  },
  {
   "cell_type": "code",
   "execution_count": 8,
   "id": "8941ee50-be2a-44f9-9c94-2b27657113e1",
   "metadata": {},
   "outputs": [
    {
     "name": "stderr",
     "output_type": "stream",
     "text": [
      "100%|██████████| 2000/2000 [02:04<00:00, 16.05it/s]\n"
     ]
    }
   ],
   "source": [
    "prediction = []\n",
    "sampling_params = SamplingParams(temperature=0, max_tokens=30, stop=['отель', 'самолет'], include_stop_str_in_output=True)\n",
    "for i in tqdm(range(2000)):\n",
    "    sample = df.iloc[i]\n",
    "    prompt = f\"\"\"Ты должен отнести текст к одному из двух классов: самолет и отель.\n",
    "    \n",
    "    Используй следующий шаблон:\n",
    "    \n",
    "    Текст: сообщение пользователя в чате\n",
    "    Класс: одно из двух значений: самолет или отель\n",
    "    \n",
    "    Начинай!\n",
    "    \n",
    "    Текст: {sample.text}\n",
    "    Класс: \"\"\"\n",
    "    \n",
    "    output = llm.generate(prompt, sampling_params, use_tqdm=False)[0]\n",
    "        \n",
    "    # Print the outputs.\n",
    "    prompt = output.prompt\n",
    "    generated_text = output.outputs[0].text\n",
    "    generated_text = ''.join([char for char in generated_text if char.isalpha()])\n",
    "    prediction.append(generated_text)"
   ]
  },
  {
   "cell_type": "code",
   "execution_count": 10,
   "id": "7cb0ba40-15a5-4e4f-8a1d-0ce5ae1a76df",
   "metadata": {},
   "outputs": [
    {
     "name": "stdout",
     "output_type": "stream",
     "text": [
      "Accuracy booking = 0.999\n",
      "Accuracy tickets = 0.998\n"
     ]
    }
   ],
   "source": [
    "df['prediction'] = prediction\n",
    "booking_errors = df[(df['prediction']!=df['label'])&(df['label']=='отель')].shape[0]\n",
    "ticket_errors = df[(df['prediction']!=df['label'])&(df['label']=='самолет')].shape[0]\n",
    "print(f'Accuracy booking = {1-booking_errors/1000:.3f}\\nAccuracy tickets = {1-ticket_errors/1000:.3f}')"
   ]
  },
  {
   "cell_type": "markdown",
   "id": "18bc6d04-6837-41c7-9a9f-0d72bdaab7b1",
   "metadata": {},
   "source": [
    "## One-shot learning"
   ]
  },
  {
   "cell_type": "code",
   "execution_count": 20,
   "id": "cbb2b02f-6bd8-460b-b512-fbe9346a061f",
   "metadata": {
    "scrolled": true
   },
   "outputs": [
    {
     "name": "stderr",
     "output_type": "stream",
     "text": [
      "100%|██████████| 2000/2000 [02:59<00:00, 11.15it/s]\n"
     ]
    }
   ],
   "source": [
    "prediction_one_shot = []\n",
    "sampling_params = SamplingParams(temperature=0, max_tokens=30, stop=['отель', 'самолет'], include_stop_str_in_output=True)\n",
    "for i in tqdm(range(2000)):\n",
    "    sample = df.iloc[i]\n",
    "    prompt = f\"\"\"Ты должен отнести текст к одному из двух классов: самолет и отель.\n",
    "\n",
    "    Пример для класса самолет: {df.iloc[0].text}\n",
    "    Пример для класса отель: {df.iloc[1000].text}\n",
    "    \n",
    "    Используй следующий шаблон:\n",
    "    \n",
    "    Текст: сообщение пользователя в чате\n",
    "    Класс: одно из двух значений: самолет или отель\n",
    "    \n",
    "    Начинай!\n",
    "    \n",
    "    Текст: {sample.text}\n",
    "    Класс: \"\"\"\n",
    "    \n",
    "    output = llm.generate(prompt, sampling_params, use_tqdm=False)[0]\n",
    "        \n",
    "    # Print the outputs.\n",
    "    prompt = output.prompt\n",
    "    generated_text = output.outputs[0].text\n",
    "    generated_text = ''.join([char for char in generated_text if char.isalpha()])\n",
    "    prediction_one_shot.append(generated_text)"
   ]
  },
  {
   "cell_type": "code",
   "execution_count": 21,
   "id": "b5d5a041-c0b5-40b7-b594-681012c3dc53",
   "metadata": {},
   "outputs": [
    {
     "name": "stdout",
     "output_type": "stream",
     "text": [
      "Accuracy booking = 0.997\n",
      "Accuracy tickets = 1.000\n"
     ]
    }
   ],
   "source": [
    "df['prediction_one_shot'] = prediction_one_shot\n",
    "booking_errors = df[(df['prediction_one_shot']!=df['label'])&(df['label']=='отель')].shape[0]\n",
    "ticket_errors = df[(df['prediction_one_shot']!=df['label'])&(df['label']=='самолет')].shape[0]\n",
    "print(f'Accuracy booking = {1-booking_errors/1000:.3f}\\nAccuracy tickets = {1-ticket_errors/1000:.3f}')"
   ]
  }
 ],
 "metadata": {
  "kernelspec": {
   "display_name": "Python 3 (ipykernel)",
   "language": "python",
   "name": "python3"
  },
  "language_info": {
   "codemirror_mode": {
    "name": "ipython",
    "version": 3
   },
   "file_extension": ".py",
   "mimetype": "text/x-python",
   "name": "python",
   "nbconvert_exporter": "python",
   "pygments_lexer": "ipython3",
   "version": "3.10.12"
  }
 },
 "nbformat": 4,
 "nbformat_minor": 5
}
