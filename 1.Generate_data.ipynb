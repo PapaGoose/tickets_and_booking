{
 "cells": [
  {
   "cell_type": "markdown",
   "id": "225a9696-f07e-4f18-836f-7743400ce172",
   "metadata": {},
   "source": [
    "Поскольку в интернете я не нашел готовых датасетов с запросами на бронирование билетов или отелей, то я решил их сгенерировать при помощи LLM. Для этого собрал следующие данные:\n",
    "- список городов мира\n",
    "- список отелей мира\n",
    "\n",
    "Сначала генерируется некоторое кол-во json файлов для каждого из классов задач.\n",
    "Для покупки билетов генерируются следующие поля:\n",
    "- Город отправления (случайный элемент из списка городов)\n",
    "- Город назначения (случайный элемент из списка городов)\n",
    "- Дата вылета (случайная дата)\n",
    "- Дата возврата (Дата вылета + n дней)\n",
    "\n",
    "Для бронирования отелей генерируются следующие поля:\n",
    "- Город (случайный элемент из списка городов)\n",
    "- Отель (случайный элемент из списка отелей)\n",
    "- Дата заезда (случайная дата)\n",
    "- Кол-во гостей (n человек)\n",
    "- Время пребывания (n дней)\n",
    "\n",
    "Потом каждый json подается в LLM с задачей сгенерировать запрос клиента, используя данные из json. Настраивается температура и параметры семплирования для большей разнообразности данных."
   ]
  },
  {
   "cell_type": "markdown",
   "id": "79eeea54-5c85-4a79-8861-87a6d6a8e66c",
   "metadata": {},
   "source": [
    "# Подготовка данных"
   ]
  },
  {
   "cell_type": "code",
   "execution_count": 1,
   "id": "80cb3728-d339-419c-ad8e-1f1a22dc88f8",
   "metadata": {},
   "outputs": [
    {
     "name": "stdout",
     "output_type": "stream",
     "text": [
      "Hotels: 1010033\n",
      "Cities: 10969\n"
     ]
    }
   ],
   "source": [
    "import pandas as pd\n",
    "import json\n",
    "\n",
    "# Загрузка списка городов\n",
    "with open('Data/cities.json') as f:\n",
    "    cities = json.load(f)\n",
    "\n",
    "city_names = [city['name'] for city in cities['city']]\n",
    "\n",
    "# Загрузка списка отелей\n",
    "hotels_df = pd.read_csv('Data/hotels.csv', encoding_errors='ignore')\n",
    "hotel_names = list(hotels_df[' HotelName'].values)\n",
    "\n",
    "print(f'Hotels: {len(hotel_names)}\\nCities: {len(city_names)}')"
   ]
  },
  {
   "cell_type": "markdown",
   "id": "8ec743c9-9bf0-4f62-a340-363e43c1f6b8",
   "metadata": {},
   "source": [
    "# Генерация json для самолетов"
   ]
  },
  {
   "cell_type": "code",
   "execution_count": 2,
   "id": "8d9fb0af-3d59-4c7b-965e-484518b89af8",
   "metadata": {},
   "outputs": [
    {
     "data": {
      "text/plain": [
       "{'departure_city': 'Пицунда',\n",
       " 'arrival_city': 'Триест',\n",
       " 'departure_date': '03-05-2024',\n",
       " 'return_date': '27-05-2024'}"
      ]
     },
     "execution_count": 2,
     "metadata": {},
     "output_type": "execute_result"
    }
   ],
   "source": [
    "from random import sample, randrange\n",
    "import datetime\n",
    "\n",
    "def generate_random_date():\n",
    "    \"\"\"\n",
    "    Генерирует случайную дату между 01-01-2023 и 31-12-2024\n",
    "    \"\"\"\n",
    "    start_date = datetime.date(2023, 1, 1)\n",
    "    end_date = datetime.date(2024, 12, 31)\n",
    "    time_between_dates = end_date - start_date\n",
    "    days_between_dates = time_between_dates.days\n",
    "    random_number_of_days = randrange(days_between_dates)\n",
    "    random_date = start_date + datetime.timedelta(days=random_number_of_days)\n",
    "    \n",
    "    return random_date\n",
    "\n",
    "def generate_tickets(city_names):\n",
    "    \"\"\"\n",
    "    Генерирует json для билетов на самолет\n",
    "    \"\"\"\n",
    "    sample_city = sample(city_names, 2)\n",
    "    departure_date = generate_random_date()\n",
    "    return_date = departure_date + datetime.timedelta(days=randrange(1,30))\n",
    "    return {\n",
    "        'departure_city': sample_city[0],\n",
    "        'arrival_city': sample_city[1],\n",
    "        'departure_date': departure_date.strftime('%d-%m-%Y'),\n",
    "        'return_date': return_date.strftime('%d-%m-%Y')\n",
    "    }\n",
    "generate_tickets(city_names)"
   ]
  },
  {
   "cell_type": "markdown",
   "id": "97f73ea9-5bed-46b6-b437-363a8c69b985",
   "metadata": {},
   "source": [
    "# Генерация json для отелей"
   ]
  },
  {
   "cell_type": "code",
   "execution_count": 3,
   "id": "c49f6e6c-df2c-469f-a22d-31cf8df01bc0",
   "metadata": {},
   "outputs": [
    {
     "data": {
      "text/plain": [
       "{'city': 'Сосновец',\n",
       " 'hotel': 'Gasthaus Zum Schwan',\n",
       " 'date': '13-04-2024',\n",
       " 'guests': 4,\n",
       " 'days': 12}"
      ]
     },
     "execution_count": 3,
     "metadata": {},
     "output_type": "execute_result"
    }
   ],
   "source": [
    "def generate_booking(city_names, hotel_names):\n",
    "    \"\"\"\n",
    "    Генерирует json для отелей\n",
    "    \"\"\"\n",
    "    sample_city = sample(city_names, 2)\n",
    "    departure_date = generate_random_date()\n",
    "    return_date = departure_date + datetime.timedelta(days=randrange(1,30))\n",
    "    return {\n",
    "        'city': sample(city_names, 1)[0],\n",
    "        'hotel': sample(hotel_names, 1)[0],\n",
    "        'date': generate_random_date().strftime('%d-%m-%Y'),\n",
    "        'guests': randrange(1, 5),\n",
    "        'days': randrange(1, 30)\n",
    "    }\n",
    "generate_booking(city_names, hotel_names)"
   ]
  },
  {
   "cell_type": "markdown",
   "id": "14e229d3-1940-49ca-bd21-f3e4ddfa2bf7",
   "metadata": {},
   "source": [
    "# Генерация датасета\n",
    "Сгенерируем по 1000 примеров для каждого типа задачи"
   ]
  },
  {
   "cell_type": "code",
   "execution_count": 4,
   "id": "619aee97-1166-45d2-b784-74bcabcdaa0c",
   "metadata": {},
   "outputs": [],
   "source": [
    "n_samples = 1000\n",
    "data = {\n",
    "    'tickets': [],\n",
    "    'booking': []\n",
    "}\n",
    "for i in range(n_samples):\n",
    "    data['tickets'].append(\n",
    "        {\n",
    "            'json': generate_tickets(city_names),\n",
    "            'text': ''\n",
    "        }\n",
    "    )\n",
    "    data['booking'].append(\n",
    "        {\n",
    "            'json': generate_booking(city_names, hotel_names),\n",
    "            'text': ''\n",
    "        }\n",
    "    )"
   ]
  },
  {
   "cell_type": "markdown",
   "id": "4cfac6cd-9df7-48c1-9baf-a0b9a169d51c",
   "metadata": {},
   "source": [
    "# Загрузка llm\n",
    "Загрузим llm сразу в vllm, чтобы быстрей сгенерировать данные"
   ]
  },
  {
   "cell_type": "code",
   "execution_count": 5,
   "id": "da4f6651-e9c8-480b-867f-b3b5d80c3b06",
   "metadata": {},
   "outputs": [
    {
     "name": "stdout",
     "output_type": "stream",
     "text": [
      "INFO 04-07 14:25:05 llm_engine.py:70] Initializing an LLM engine with config: model='mistralai/Mistral-7B-Instruct-v0.2', tokenizer='mistralai/Mistral-7B-Instruct-v0.2', tokenizer_mode=auto, revision=None, tokenizer_revision=None, trust_remote_code=False, dtype=torch.bfloat16, max_seq_len=32768, download_dir=None, load_format=auto, tensor_parallel_size=1, quantization=None, enforce_eager=False, seed=0)\n",
      "INFO 04-07 14:25:12 llm_engine.py:275] # GPU blocks: 12691, # CPU blocks: 2048\n",
      "INFO 04-07 14:25:13 model_runner.py:501] Capturing the model for CUDA graphs. This may lead to unexpected consequences if the model is not static. To run the model in eager mode, set 'enforce_eager=True' or use '--enforce-eager' in the CLI.\n",
      "INFO 04-07 14:25:13 model_runner.py:505] CUDA graphs can take additional 1~3 GiB memory per GPU. If you are running out of memory, consider decreasing `gpu_memory_utilization` or enforcing eager mode.\n",
      "INFO 04-07 14:25:16 model_runner.py:547] Graph capturing finished in 3 secs.\n"
     ]
    }
   ],
   "source": [
    "from vllm import LLM, SamplingParams\n",
    "from tqdm import tqdm\n",
    "\n",
    "llm = LLM(model=\"mistralai/Mistral-7B-Instruct-v0.2\")"
   ]
  },
  {
   "cell_type": "code",
   "execution_count": 6,
   "id": "36361b1b-36b7-42e7-9a89-967ec72e9e8b",
   "metadata": {
    "scrolled": true
   },
   "outputs": [
    {
     "name": "stderr",
     "output_type": "stream",
     "text": [
      "100%|██████████| 1000/1000 [29:54<00:00,  1.79s/it]\n"
     ]
    }
   ],
   "source": [
    "# Генерация текстов для бронирования отелей\n",
    "sampling_params = SamplingParams(temperature=1.2, top_p=0.5, max_tokens=300, stop=['\\n\\n'])\n",
    "n_samples = 1000\n",
    "i = 0\n",
    "\n",
    "with tqdm(total=n_samples) as pbar:\n",
    "    while i < n_samples:\n",
    "        sample = data['booking'][i]['json']\n",
    "        booking_prompt = f\"\"\"\n",
    "        Представь, что ты русский человек, который желает забронировать номер в отеле. Напиши короткое сообщение в чат. Используй следующие параметры:\n",
    "        \n",
    "        Отель: {sample['hotel']}\n",
    "        \"\"\"\n",
    "    \n",
    "        # С вероятностью 20% не используем доступные данные\n",
    "        if randrange(1, 11) <= 8:\n",
    "            booking_prompt += f\"\\nГород: {sample['city']}\"\n",
    "        else:\n",
    "            data['booking'][i]['json']['city'] = ''\n",
    "            \n",
    "        if randrange(1, 11) <= 8:\n",
    "            booking_prompt += f\"\\nДата заселения: {sample['date']}\"\n",
    "        else:\n",
    "            data['booking'][i]['json']['date'] = ''\n",
    "            \n",
    "        if randrange(1, 11) <= 8:\n",
    "            booking_prompt += f\"\\nКоличество дней проживания: {sample['days']}\"\n",
    "        else:\n",
    "            data['booking'][i]['json']['days'] = ''\n",
    "            \n",
    "        if randrange(1, 11) <= 8:\n",
    "            booking_prompt += f\"\\nКоличество гостей: {sample['guests']}\"\n",
    "        else:\n",
    "            data['booking'][i]['json']['guests'] = ''\n",
    "            \n",
    "        booking_prompt += '\\n\\nОтвет:'\n",
    "        \n",
    "        outputs = llm.generate(booking_prompt, sampling_params, use_tqdm=False)\n",
    "        \n",
    "        # Print the outputs.\n",
    "        for output in outputs:\n",
    "            prompt = output.prompt\n",
    "            generated_text = output.outputs[0].text\n",
    "        data['booking'][i]['text'] = generated_text\n",
    "        if generated_text != '':\n",
    "            pbar.update(1)\n",
    "            i += 1"
   ]
  },
  {
   "cell_type": "code",
   "execution_count": 9,
   "id": "7a9a7597-ebbc-4679-b768-b72e2eeb5113",
   "metadata": {},
   "outputs": [
    {
     "name": "stderr",
     "output_type": "stream",
     "text": [
      "100%|██████████| 1000/1000 [21:56<00:00,  1.32s/it]\n"
     ]
    }
   ],
   "source": [
    "# Генерация текстов для авиабилетов\n",
    "sampling_params = SamplingParams(temperature=1.2, top_p=0.5, max_tokens=300, stop=['\\n\\n'])\n",
    "n_samples = 1000\n",
    "i = 0\n",
    "\n",
    "with tqdm(total=n_samples) as pbar:\n",
    "    while i < n_samples:\n",
    "        sample = data['tickets'][i]['json']\n",
    "        tickets_prompt = f\"\"\"\n",
    "        Представь, что ты русский человек, который желает купить билет на самолет. Напиши короткое сообщение в чат. Используй следующие параметры:\n",
    "        \n",
    "        Город отправления: {sample['departure_city']}\n",
    "        Город прибытия: {sample['arrival_city']}\n",
    "        \"\"\"\n",
    "    \n",
    "        # С вероятностью 20% не используем доступные данные\n",
    "        if randrange(1, 11) <= 8:\n",
    "            tickets_prompt += f\"\\nДата отправления: {sample['departure_date']}\"\n",
    "        else:\n",
    "            data['tickets'][i]['json']['departure_date'] = ''\n",
    "            \n",
    "        if randrange(1, 11) <= 8:\n",
    "            tickets_prompt += f\"\\nДата возвращения: {sample['return_date']}\"\n",
    "        else:\n",
    "            data['tickets'][i]['json']['return_date'] = ''\n",
    "            \n",
    "        tickets_prompt += '\\n\\nОтвет:'\n",
    "        \n",
    "        outputs = llm.generate(tickets_prompt, sampling_params, use_tqdm=False)\n",
    "        \n",
    "        # Print the outputs.\n",
    "        for output in outputs:\n",
    "            prompt = output.prompt\n",
    "            generated_text = output.outputs[0].text\n",
    "        data['tickets'][i]['text'] = generated_text\n",
    "        if generated_text != '':\n",
    "            pbar.update(1)\n",
    "            i += 1"
   ]
  },
  {
   "cell_type": "code",
   "execution_count": 10,
   "id": "61bd2a1a-8e42-4e03-a64e-89bf064af8a4",
   "metadata": {},
   "outputs": [],
   "source": [
    "with open(\"Data/generated_dataset.json\", \"w\") as outfile: \n",
    "    json.dump(data, outfile, ensure_ascii=False)"
   ]
  },
  {
   "cell_type": "markdown",
   "id": "31a0bbf2-3e97-4967-9085-4975537ec322",
   "metadata": {},
   "source": [
    "# Преобразование в DataFrame"
   ]
  },
  {
   "cell_type": "code",
   "execution_count": 11,
   "id": "bd80bc41-2395-410d-9d4f-9b709f4441f2",
   "metadata": {},
   "outputs": [],
   "source": [
    "import json\n",
    "import pandas as pd\n",
    "\n",
    "with open('Data/generated_dataset.json', 'r') as file:\n",
    "    data = json.load(file)\n",
    "\n",
    "tickets = data['tickets']\n",
    "booking = data['booking']\n",
    "\n",
    "raw_df = {\n",
    "    'json': [],\n",
    "    'text': [],\n",
    "    'label': []\n",
    "}\n",
    "\n",
    "for ticket in tickets:\n",
    "    raw_df['json'].append(ticket['json'])\n",
    "    raw_df['text'].append(ticket['text'])\n",
    "    raw_df['label'].append('самолет')\n",
    "\n",
    "for book in booking:\n",
    "    raw_df['json'].append(book['json'])\n",
    "    raw_df['text'].append(book['text'])\n",
    "    raw_df['label'].append('отель')\n",
    "\n",
    "df = pd.DataFrame(raw_df)\n",
    "df.to_csv('Data/generated_data.csv', index=False)"
   ]
  }
 ],
 "metadata": {
  "kernelspec": {
   "display_name": "Python 3 (ipykernel)",
   "language": "python",
   "name": "python3"
  },
  "language_info": {
   "codemirror_mode": {
    "name": "ipython",
    "version": 3
   },
   "file_extension": ".py",
   "mimetype": "text/x-python",
   "name": "python",
   "nbconvert_exporter": "python",
   "pygments_lexer": "ipython3",
   "version": "3.10.12"
  }
 },
 "nbformat": 4,
 "nbformat_minor": 5
}
