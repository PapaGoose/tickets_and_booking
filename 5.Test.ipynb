{
 "cells": [
  {
   "cell_type": "code",
   "execution_count": 2,
   "id": "8f4a6435-54f8-45a3-8b36-fa9c21fd89b7",
   "metadata": {},
   "outputs": [
    {
     "data": {
      "text/html": [
       "<div>\n",
       "<style scoped>\n",
       "    .dataframe tbody tr th:only-of-type {\n",
       "        vertical-align: middle;\n",
       "    }\n",
       "\n",
       "    .dataframe tbody tr th {\n",
       "        vertical-align: top;\n",
       "    }\n",
       "\n",
       "    .dataframe thead th {\n",
       "        text-align: right;\n",
       "    }\n",
       "</style>\n",
       "<table border=\"1\" class=\"dataframe\">\n",
       "  <thead>\n",
       "    <tr style=\"text-align: right;\">\n",
       "      <th></th>\n",
       "      <th>json</th>\n",
       "      <th>text</th>\n",
       "      <th>label</th>\n",
       "    </tr>\n",
       "  </thead>\n",
       "  <tbody>\n",
       "    <tr>\n",
       "      <th>0</th>\n",
       "      <td>{'departure_city': 'Верцелли', 'arrival_city':...</td>\n",
       "      <td>Я хочу купить билет из Верцелли в Успенку с 1...</td>\n",
       "      <td>самолет</td>\n",
       "    </tr>\n",
       "    <tr>\n",
       "      <th>1</th>\n",
       "      <td>{'departure_city': 'Тускалуса', 'arrival_city'...</td>\n",
       "      <td>Я хочу купить билет в Тускалусе в день 16-го ...</td>\n",
       "      <td>самолет</td>\n",
       "    </tr>\n",
       "    <tr>\n",
       "      <th>2</th>\n",
       "      <td>{'departure_city': 'Годалминг', 'arrival_city'...</td>\n",
       "      <td>Я хочу купить билет в авиакомпании на рейс из...</td>\n",
       "      <td>самолет</td>\n",
       "    </tr>\n",
       "    <tr>\n",
       "      <th>3</th>\n",
       "      <td>{'departure_city': 'Бодайбо', 'arrival_city': ...</td>\n",
       "      <td>Я хочу купить билет в авиакомпанию, отправляя...</td>\n",
       "      <td>самолет</td>\n",
       "    </tr>\n",
       "    <tr>\n",
       "      <th>4</th>\n",
       "      <td>{'departure_city': 'Старая Кулатка', 'arrival_...</td>\n",
       "      <td>Я живу в Старой Кулатке и хочу купить билет в...</td>\n",
       "      <td>самолет</td>\n",
       "    </tr>\n",
       "    <tr>\n",
       "      <th>...</th>\n",
       "      <td>...</td>\n",
       "      <td>...</td>\n",
       "      <td>...</td>\n",
       "    </tr>\n",
       "    <tr>\n",
       "      <th>395</th>\n",
       "      <td>{'city': 'Албена', 'hotel': 'Suite Top em Cont...</td>\n",
       "      <td>Я хотел бы забронировать номер в Suite Top em...</td>\n",
       "      <td>отель</td>\n",
       "    </tr>\n",
       "    <tr>\n",
       "      <th>396</th>\n",
       "      <td>{'city': 'Эуген', 'hotel': 'Holiday Inn Expres...</td>\n",
       "      <td>Здравствуйте, я хотел бы забронировать номер ...</td>\n",
       "      <td>отель</td>\n",
       "    </tr>\n",
       "    <tr>\n",
       "      <th>397</th>\n",
       "      <td>{'city': 'Гурьевск', 'hotel': 'Shoalwater 401 ...</td>\n",
       "      <td>*Я хотел бы забронировать номер в отеле Shoal...</td>\n",
       "      <td>отель</td>\n",
       "    </tr>\n",
       "    <tr>\n",
       "      <th>398</th>\n",
       "      <td>{'city': '', 'hotel': 'Hotel Deepak', 'date': ...</td>\n",
       "      <td>Я хотел бы забронировать номер в Hotel Deepak...</td>\n",
       "      <td>отель</td>\n",
       "    </tr>\n",
       "    <tr>\n",
       "      <th>399</th>\n",
       "      <td>{'city': '', 'hotel': 'Steading Holidays - Str...</td>\n",
       "      <td>\"Здравствуйте, мне нужен номер в вашем отеле ...</td>\n",
       "      <td>отель</td>\n",
       "    </tr>\n",
       "  </tbody>\n",
       "</table>\n",
       "<p>400 rows × 3 columns</p>\n",
       "</div>"
      ],
      "text/plain": [
       "                                                  json  \\\n",
       "0    {'departure_city': 'Верцелли', 'arrival_city':...   \n",
       "1    {'departure_city': 'Тускалуса', 'arrival_city'...   \n",
       "2    {'departure_city': 'Годалминг', 'arrival_city'...   \n",
       "3    {'departure_city': 'Бодайбо', 'arrival_city': ...   \n",
       "4    {'departure_city': 'Старая Кулатка', 'arrival_...   \n",
       "..                                                 ...   \n",
       "395  {'city': 'Албена', 'hotel': 'Suite Top em Cont...   \n",
       "396  {'city': 'Эуген', 'hotel': 'Holiday Inn Expres...   \n",
       "397  {'city': 'Гурьевск', 'hotel': 'Shoalwater 401 ...   \n",
       "398  {'city': '', 'hotel': 'Hotel Deepak', 'date': ...   \n",
       "399  {'city': '', 'hotel': 'Steading Holidays - Str...   \n",
       "\n",
       "                                                  text    label  \n",
       "0     Я хочу купить билет из Верцелли в Успенку с 1...  самолет  \n",
       "1     Я хочу купить билет в Тускалусе в день 16-го ...  самолет  \n",
       "2     Я хочу купить билет в авиакомпании на рейс из...  самолет  \n",
       "3     Я хочу купить билет в авиакомпанию, отправляя...  самолет  \n",
       "4     Я живу в Старой Кулатке и хочу купить билет в...  самолет  \n",
       "..                                                 ...      ...  \n",
       "395   Я хотел бы забронировать номер в Suite Top em...    отель  \n",
       "396   Здравствуйте, я хотел бы забронировать номер ...    отель  \n",
       "397   *Я хотел бы забронировать номер в отеле Shoal...    отель  \n",
       "398   Я хотел бы забронировать номер в Hotel Deepak...    отель  \n",
       "399   \"Здравствуйте, мне нужен номер в вашем отеле ...    отель  \n",
       "\n",
       "[400 rows x 3 columns]"
      ]
     },
     "execution_count": 2,
     "metadata": {},
     "output_type": "execute_result"
    }
   ],
   "source": [
    "import pandas as pd\n",
    "\n",
    "test_df = pd.read_csv('Data/test.csv')\n",
    "test_df.json = test_df.json.apply(lambda x: eval(x))\n",
    "test_df"
   ]
  },
  {
   "cell_type": "markdown",
   "id": "b315408d-4fe4-4331-a370-fc8dbf686ece",
   "metadata": {},
   "source": [
    "# Merge model"
   ]
  },
  {
   "cell_type": "code",
   "execution_count": 2,
   "id": "7841992f-5652-4919-8f88-ac4d662f7d66",
   "metadata": {},
   "outputs": [
    {
     "data": {
      "application/vnd.jupyter.widget-view+json": {
       "model_id": "c785f908d4e6435eb64d8ff49f6f9ffe",
       "version_major": 2,
       "version_minor": 0
      },
      "text/plain": [
       "Loading checkpoint shards:   0%|          | 0/2 [00:00<?, ?it/s]"
      ]
     },
     "metadata": {},
     "output_type": "display_data"
    },
    {
     "data": {
      "text/plain": [
       "('APP/models/Mistral_NER_merged/tokenizer_config.json',\n",
       " 'APP/models/Mistral_NER_merged/special_tokens_map.json',\n",
       " 'APP/models/Mistral_NER_merged/tokenizer.model',\n",
       " 'APP/models/Mistral_NER_merged/added_tokens.json',\n",
       " 'APP/models/Mistral_NER_merged/tokenizer.json')"
      ]
     },
     "execution_count": 2,
     "metadata": {},
     "output_type": "execute_result"
    }
   ],
   "source": [
    "import torch\n",
    "from transformers import AutoModelForCausalLM, AutoTokenizer, BitsAndBytesConfig\n",
    "from peft import PeftModel\n",
    "\n",
    "model_name = 'mistralai/Mistral-7B-v0.1'\n",
    "model_dir = 'APP/models/Mistral_NER_merged'\n",
    "\n",
    "base_model = AutoModelForCausalLM.from_pretrained(model_name)\n",
    "tokenizer = AutoTokenizer.from_pretrained(model_name)\n",
    "\n",
    "model_to_merge = PeftModel.from_pretrained(base_model, 'NER-mistral_v0.1/checkpoint-200/')\n",
    "merged_model = model_to_merge.merge_and_unload()\n",
    "merged_model.save_pretrained(model_dir, safe_serialization=True)\n",
    "\n",
    "tokenizer.save_pretrained(model_dir)"
   ]
  },
  {
   "cell_type": "markdown",
   "id": "386da4e5-edf3-464f-ba05-1dd7707694ee",
   "metadata": {},
   "source": [
    "# Test"
   ]
  },
  {
   "cell_type": "code",
   "execution_count": 1,
   "id": "94cd8bbf-8e90-4e6b-a42e-dbb0a2976ea2",
   "metadata": {},
   "outputs": [
    {
     "name": "stdout",
     "output_type": "stream",
     "text": [
      "INFO 04-07 17:28:58 llm_engine.py:70] Initializing an LLM engine with config: model='APP/models/Mistral_NER_merged', tokenizer='APP/models/Mistral_NER_merged', tokenizer_mode=auto, revision=None, tokenizer_revision=None, trust_remote_code=False, dtype=torch.float16, max_seq_len=32768, download_dir=None, load_format=auto, tensor_parallel_size=1, quantization=None, enforce_eager=False, seed=0)\n",
      "INFO 04-07 17:29:06 llm_engine.py:275] # GPU blocks: 12690, # CPU blocks: 2048\n",
      "INFO 04-07 17:29:07 model_runner.py:501] Capturing the model for CUDA graphs. This may lead to unexpected consequences if the model is not static. To run the model in eager mode, set 'enforce_eager=True' or use '--enforce-eager' in the CLI.\n",
      "INFO 04-07 17:29:07 model_runner.py:505] CUDA graphs can take additional 1~3 GiB memory per GPU. If you are running out of memory, consider decreasing `gpu_memory_utilization` or enforcing eager mode.\n",
      "INFO 04-07 17:29:09 model_runner.py:547] Graph capturing finished in 3 secs.\n"
     ]
    }
   ],
   "source": [
    "from vllm import LLM, SamplingParams\n",
    "from tqdm import tqdm\n",
    "import os\n",
    "\n",
    "os.environ[\"CUDA_VISIBLE_DEVICES\"] = \"1\"\n",
    "llm = LLM(model=\"APP/models/Mistral_NER_merged\")"
   ]
  },
  {
   "cell_type": "code",
   "execution_count": 4,
   "id": "99490701-209e-43d0-bcae-ea788196d4e1",
   "metadata": {},
   "outputs": [],
   "source": [
    "from utils import *\n",
    "ner = NER()"
   ]
  },
  {
   "cell_type": "code",
   "execution_count": 5,
   "id": "4bc97a6c-5aec-43a2-bc8a-90b610177ee7",
   "metadata": {},
   "outputs": [
    {
     "name": "stderr",
     "output_type": "stream",
     "text": [
      "100%|██████████| 400/400 [08:26<00:00,  1.27s/it]\n"
     ]
    }
   ],
   "source": [
    "sampling_params = SamplingParams(temperature=0, max_tokens=100, stop='}', include_stop_str_in_output=True)\n",
    "for i in tqdm(range(400)):\n",
    "    sample = test_df.iloc[i]\n",
    "    prompt = f\"\"\"Ты должен найти в тексте определенные атрибуты и сохранить их в формате JSON. Не используй комментарии.\n",
    "\n",
    "Используй следующий шаблон:\n",
    "\n",
    "Текст: сообщение пользователя в чате.\n",
    "JSON: объект по всем стандартам JSON.{ner.label_mapping[sample.label]['template']}\n",
    "Начинай!\n",
    "\n",
    "Текст: {sample.text}\n",
    "Ответ:\"\"\"\n",
    "    \n",
    "    output = llm.generate(prompt, sampling_params, use_tqdm=False)[0]\n",
    "        \n",
    "    # Print the outputs.\n",
    "    prompt = output.prompt\n",
    "    generated_text = output.outputs[0].text\n",
    "    ner.count_errors(sample, generated_text)"
   ]
  },
  {
   "cell_type": "code",
   "execution_count": 6,
   "id": "5a55c1fa-a310-409c-b277-bfc0348c1f98",
   "metadata": {},
   "outputs": [
    {
     "name": "stdout",
     "output_type": "stream",
     "text": [
      "Точность для класса \"самолет\"\n",
      "\n",
      "\tdeparture_city: 0.86500\n",
      "\n",
      "\tarrival_city: 0.89500\n",
      "\n",
      "\tdeparture_date: 0.79000\n",
      "\n",
      "\treturn_date: 0.81500\n",
      "\n",
      "Точность для класса \"отель\"\n",
      "\n",
      "\tcity: 0.58500\n",
      "\n",
      "\thotel: 0.91500\n",
      "\n",
      "\tdate: 0.86500\n",
      "\n",
      "\tguests: 0.96000\n",
      "\n",
      "\tdays: 0.60000\n",
      "\n"
     ]
    }
   ],
   "source": [
    "ner.score()"
   ]
  },
  {
   "cell_type": "markdown",
   "id": "cf306a85-4e2d-4ab3-8d6c-31b16610bfad",
   "metadata": {},
   "source": [
    "# Тест классификации"
   ]
  },
  {
   "cell_type": "code",
   "execution_count": 7,
   "id": "d9721c61-aaf9-4aa7-ac15-fd4ffccb7ca7",
   "metadata": {},
   "outputs": [],
   "source": [
    "import pandas as pd\n",
    "\n",
    "df = pd.read_csv('Data/generated_data.csv')"
   ]
  },
  {
   "cell_type": "markdown",
   "id": "2fb12f5a-e52f-414b-9557-caaf37ba1161",
   "metadata": {},
   "source": [
    "# Zero-shot learning"
   ]
  },
  {
   "cell_type": "code",
   "execution_count": 8,
   "id": "89d947da-eb6a-4e23-9154-35a77ba7b4a3",
   "metadata": {},
   "outputs": [
    {
     "name": "stderr",
     "output_type": "stream",
     "text": [
      "100%|██████████| 2000/2000 [02:07<00:00, 15.70it/s]\n"
     ]
    }
   ],
   "source": [
    "prediction = []\n",
    "sampling_params = SamplingParams(temperature=0, max_tokens=30, stop=['отель', 'самолет'], include_stop_str_in_output=True)\n",
    "for i in tqdm(range(2000)):\n",
    "    sample = df.iloc[i]\n",
    "    prompt = f\"\"\"Ты должен отнести текст к одному из двух классов: самолет и отель.\n",
    "    \n",
    "    Используй следующий шаблон:\n",
    "    \n",
    "    Текст: сообщение пользователя в чате\n",
    "    Класс: одно из двух значений: самолет или отель\n",
    "    \n",
    "    Начинай!\n",
    "    \n",
    "    Текст: {sample.text}\n",
    "    Класс: \"\"\"\n",
    "    \n",
    "    output = llm.generate(prompt, sampling_params, use_tqdm=False)[0]\n",
    "        \n",
    "    # Print the outputs.\n",
    "    prompt = output.prompt\n",
    "    generated_text = output.outputs[0].text\n",
    "    generated_text = ''.join([char for char in generated_text if char.isalpha()])\n",
    "    prediction.append(generated_text)"
   ]
  },
  {
   "cell_type": "code",
   "execution_count": 9,
   "id": "dd04f940-36e5-4643-9fc6-ac64f74285a6",
   "metadata": {},
   "outputs": [
    {
     "name": "stdout",
     "output_type": "stream",
     "text": [
      "Accuracy booking = 0.995\n",
      "Accuracy tickets = 0.998\n"
     ]
    }
   ],
   "source": [
    "df['prediction'] = prediction\n",
    "booking_errors = df[(df['prediction']!=df['label'])&(df['label']=='отель')].shape[0]\n",
    "ticket_errors = df[(df['prediction']!=df['label'])&(df['label']=='самолет')].shape[0]\n",
    "print(f'Accuracy booking = {1-booking_errors/1000:.3f}\\nAccuracy tickets = {1-ticket_errors/1000:.3f}')"
   ]
  },
  {
   "cell_type": "markdown",
   "id": "f2ac2aa4-806d-4d6d-8ee5-a7eb10edb79b",
   "metadata": {},
   "source": [
    "## One-shot learning"
   ]
  },
  {
   "cell_type": "code",
   "execution_count": 10,
   "id": "b28cbf07-681e-48ec-ba8f-48a353bc3bcf",
   "metadata": {},
   "outputs": [
    {
     "name": "stderr",
     "output_type": "stream",
     "text": [
      "100%|██████████| 2000/2000 [02:45<00:00, 12.09it/s]\n"
     ]
    }
   ],
   "source": [
    "prediction_one_shot = []\n",
    "sampling_params = SamplingParams(temperature=0, max_tokens=30, stop=['отель', 'самолет'], include_stop_str_in_output=True)\n",
    "for i in tqdm(range(2000)):\n",
    "    sample = df.iloc[i]\n",
    "    prompt = f\"\"\"Ты должен отнести текст к одному из двух классов: самолет и отель.\n",
    "\n",
    "    Пример для класса самолет: {df.iloc[0].text}\n",
    "    Пример для класса отель: {df.iloc[1000].text}\n",
    "    \n",
    "    Используй следующий шаблон:\n",
    "    \n",
    "    Текст: сообщение пользователя в чате\n",
    "    Класс: одно из двух значений: самолет или отель\n",
    "    \n",
    "    Начинай!\n",
    "    \n",
    "    Текст: {sample.text}\n",
    "    Класс: \"\"\"\n",
    "    \n",
    "    output = llm.generate(prompt, sampling_params, use_tqdm=False)[0]\n",
    "        \n",
    "    # Print the outputs.\n",
    "    prompt = output.prompt\n",
    "    generated_text = output.outputs[0].text\n",
    "    generated_text = ''.join([char for char in generated_text if char.isalpha()])\n",
    "    prediction_one_shot.append(generated_text)"
   ]
  },
  {
   "cell_type": "code",
   "execution_count": 11,
   "id": "7e56d6ed-35ea-44c6-9048-a7066ca8a4fb",
   "metadata": {},
   "outputs": [
    {
     "name": "stdout",
     "output_type": "stream",
     "text": [
      "Accuracy booking = 1.000\n",
      "Accuracy tickets = 1.000\n"
     ]
    }
   ],
   "source": [
    "df['prediction_one_shot'] = prediction_one_shot\n",
    "booking_errors = df[(df['prediction_one_shot']!=df['label'])&(df['label']=='отель')].shape[0]\n",
    "ticket_errors = df[(df['prediction_one_shot']!=df['label'])&(df['label']=='самолет')].shape[0]\n",
    "print(f'Accuracy booking = {1-booking_errors/1000:.3f}\\nAccuracy tickets = {1-ticket_errors/1000:.3f}')"
   ]
  }
 ],
 "metadata": {
  "kernelspec": {
   "display_name": "Python 3 (ipykernel)",
   "language": "python",
   "name": "python3"
  },
  "language_info": {
   "codemirror_mode": {
    "name": "ipython",
    "version": 3
   },
   "file_extension": ".py",
   "mimetype": "text/x-python",
   "name": "python",
   "nbconvert_exporter": "python",
   "pygments_lexer": "ipython3",
   "version": "3.10.12"
  }
 },
 "nbformat": 4,
 "nbformat_minor": 5
}
